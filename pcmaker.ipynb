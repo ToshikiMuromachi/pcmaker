{
 "cells": [
  {
   "cell_type": "code",
   "execution_count": 1,
   "metadata": {},
   "outputs": [],
   "source": [
    "# coding:utf-8\n",
    "import numpy as np\n",
    "import pandas as pd\n",
    "import matplotlib.pyplot as plt\n",
    "import seaborn as sns\n",
    "from sklearn import ensemble, metrics\n",
    "from datetime import datetime as dt\n",
    "from sklearn.preprocessing import LabelEncoder\n",
    "\n",
    "\n",
    "# pandas\n",
    "import pandas as pd\n",
    "\n",
    "# LightGBM\n",
    "import lightgbm as lgb\n",
    "from sklearn.model_selection import train_test_split\n",
    "from sklearn.metrics import accuracy_score\n",
    "\n",
    "# 交差検証\n",
    "from sklearn.model_selection import KFold\n",
    "from sklearn.model_selection import cross_val_score\n",
    "from sklearn.metrics import mean_squared_error"
   ]
  },
  {
   "cell_type": "code",
   "execution_count": 2,
   "metadata": {},
   "outputs": [],
   "source": [
    "purchase_df = pd.read_csv('../input/purchase_record.csv')\n",
    "user_df = pd.read_csv('../input/user_info.csv')\n",
    "test_df = pd.read_csv('../input/purchase_record_test.csv')"
   ]
  },
  {
   "cell_type": "code",
   "execution_count": 3,
   "metadata": {},
   "outputs": [
    {
     "data": {
      "text/plain": [
       "(1803574, 14)"
      ]
     },
     "execution_count": 3,
     "metadata": {},
     "output_type": "execute_result"
    }
   ],
   "source": [
    "purchase_df.shape"
   ]
  },
  {
   "cell_type": "code",
   "execution_count": 4,
   "metadata": {},
   "outputs": [
    {
     "name": "stdout",
     "output_type": "stream",
     "text": [
      "<class 'pandas.core.frame.DataFrame'>\n",
      "RangeIndex: 1803574 entries, 0 to 1803573\n",
      "Data columns (total 14 columns):\n",
      "user_id        object\n",
      "purchase_id    object\n",
      "date           object\n",
      "product_id     object\n",
      "parts_1        object\n",
      "parts_2        object\n",
      "parts_3        object\n",
      "parts_4        object\n",
      "parts_5        object\n",
      "parts_6        object\n",
      "parts_7        object\n",
      "parts_8        object\n",
      "parts_9        object\n",
      "purchase       int64\n",
      "dtypes: int64(1), object(13)\n",
      "memory usage: 192.6+ MB\n"
     ]
    }
   ],
   "source": [
    "purchase_df.info()"
   ]
  },
  {
   "cell_type": "code",
   "execution_count": 5,
   "metadata": {},
   "outputs": [
    {
     "data": {
      "text/html": [
       "<div>\n",
       "<style scoped>\n",
       "    .dataframe tbody tr th:only-of-type {\n",
       "        vertical-align: middle;\n",
       "    }\n",
       "\n",
       "    .dataframe tbody tr th {\n",
       "        vertical-align: top;\n",
       "    }\n",
       "\n",
       "    .dataframe thead th {\n",
       "        text-align: right;\n",
       "    }\n",
       "</style>\n",
       "<table border=\"1\" class=\"dataframe\">\n",
       "  <thead>\n",
       "    <tr style=\"text-align: right;\">\n",
       "      <th></th>\n",
       "      <th>user_id</th>\n",
       "      <th>purchase_id</th>\n",
       "      <th>date</th>\n",
       "      <th>product_id</th>\n",
       "      <th>parts_1</th>\n",
       "      <th>parts_2</th>\n",
       "      <th>parts_3</th>\n",
       "      <th>parts_4</th>\n",
       "      <th>parts_5</th>\n",
       "      <th>parts_6</th>\n",
       "      <th>parts_7</th>\n",
       "      <th>parts_8</th>\n",
       "      <th>parts_9</th>\n",
       "      <th>purchase</th>\n",
       "    </tr>\n",
       "  </thead>\n",
       "  <tbody>\n",
       "    <tr>\n",
       "      <td>0</td>\n",
       "      <td>uid_100</td>\n",
       "      <td>pid_0000000000</td>\n",
       "      <td>2017-09-27</td>\n",
       "      <td>product 2</td>\n",
       "      <td>NaN</td>\n",
       "      <td>NaN</td>\n",
       "      <td>NaN</td>\n",
       "      <td>NaN</td>\n",
       "      <td>NaN</td>\n",
       "      <td>NaN</td>\n",
       "      <td>NaN</td>\n",
       "      <td>NaN</td>\n",
       "      <td>NaN</td>\n",
       "      <td>0</td>\n",
       "    </tr>\n",
       "    <tr>\n",
       "      <td>1</td>\n",
       "      <td>uid_100</td>\n",
       "      <td>pid_0000000001</td>\n",
       "      <td>2017-09-27</td>\n",
       "      <td>product 2</td>\n",
       "      <td>NaN</td>\n",
       "      <td>NaN</td>\n",
       "      <td>NaN</td>\n",
       "      <td>NaN</td>\n",
       "      <td>NaN</td>\n",
       "      <td>NaN</td>\n",
       "      <td>NaN</td>\n",
       "      <td>NaN</td>\n",
       "      <td>NaN</td>\n",
       "      <td>0</td>\n",
       "    </tr>\n",
       "    <tr>\n",
       "      <td>2</td>\n",
       "      <td>uid_100002</td>\n",
       "      <td>pid_0000000002</td>\n",
       "      <td>2017-11-23</td>\n",
       "      <td>product 2</td>\n",
       "      <td>NaN</td>\n",
       "      <td>NaN</td>\n",
       "      <td>NaN</td>\n",
       "      <td>NaN</td>\n",
       "      <td>NaN</td>\n",
       "      <td>NaN</td>\n",
       "      <td>NaN</td>\n",
       "      <td>NaN</td>\n",
       "      <td>NaN</td>\n",
       "      <td>1</td>\n",
       "    </tr>\n",
       "    <tr>\n",
       "      <td>3</td>\n",
       "      <td>uid_100002</td>\n",
       "      <td>pid_0000000003</td>\n",
       "      <td>2017-11-23</td>\n",
       "      <td>product 2</td>\n",
       "      <td>NaN</td>\n",
       "      <td>NaN</td>\n",
       "      <td>NaN</td>\n",
       "      <td>NaN</td>\n",
       "      <td>NaN</td>\n",
       "      <td>NaN</td>\n",
       "      <td>NaN</td>\n",
       "      <td>NaN</td>\n",
       "      <td>NaN</td>\n",
       "      <td>1</td>\n",
       "    </tr>\n",
       "    <tr>\n",
       "      <td>4</td>\n",
       "      <td>uid_100003</td>\n",
       "      <td>pid_0000000004</td>\n",
       "      <td>2018-02-07</td>\n",
       "      <td>product 2</td>\n",
       "      <td>NaN</td>\n",
       "      <td>NaN</td>\n",
       "      <td>NaN</td>\n",
       "      <td>NaN</td>\n",
       "      <td>NaN</td>\n",
       "      <td>NaN</td>\n",
       "      <td>NaN</td>\n",
       "      <td>NaN</td>\n",
       "      <td>NaN</td>\n",
       "      <td>1</td>\n",
       "    </tr>\n",
       "  </tbody>\n",
       "</table>\n",
       "</div>"
      ],
      "text/plain": [
       "      user_id     purchase_id        date product_id parts_1 parts_2 parts_3  \\\n",
       "0     uid_100  pid_0000000000  2017-09-27  product 2     NaN     NaN     NaN   \n",
       "1     uid_100  pid_0000000001  2017-09-27  product 2     NaN     NaN     NaN   \n",
       "2  uid_100002  pid_0000000002  2017-11-23  product 2     NaN     NaN     NaN   \n",
       "3  uid_100002  pid_0000000003  2017-11-23  product 2     NaN     NaN     NaN   \n",
       "4  uid_100003  pid_0000000004  2018-02-07  product 2     NaN     NaN     NaN   \n",
       "\n",
       "  parts_4 parts_5 parts_6 parts_7 parts_8 parts_9  purchase  \n",
       "0     NaN     NaN     NaN     NaN     NaN     NaN         0  \n",
       "1     NaN     NaN     NaN     NaN     NaN     NaN         0  \n",
       "2     NaN     NaN     NaN     NaN     NaN     NaN         1  \n",
       "3     NaN     NaN     NaN     NaN     NaN     NaN         1  \n",
       "4     NaN     NaN     NaN     NaN     NaN     NaN         1  "
      ]
     },
     "execution_count": 5,
     "metadata": {},
     "output_type": "execute_result"
    }
   ],
   "source": [
    "purchase_df.head()"
   ]
  },
  {
   "cell_type": "code",
   "execution_count": 6,
   "metadata": {},
   "outputs": [],
   "source": [
    "purchase_df.fillna(0, inplace=True)"
   ]
  },
  {
   "cell_type": "code",
   "execution_count": 7,
   "metadata": {},
   "outputs": [
    {
     "data": {
      "text/plain": [
       "0    928044\n",
       "1    875530\n",
       "Name: purchase, dtype: int64"
      ]
     },
     "execution_count": 7,
     "metadata": {},
     "output_type": "execute_result"
    }
   ],
   "source": [
    "purchase_df.purchase.value_counts()"
   ]
  },
  {
   "cell_type": "code",
   "execution_count": 8,
   "metadata": {},
   "outputs": [
    {
     "data": {
      "text/plain": [
       "(189114, 32)"
      ]
     },
     "execution_count": 8,
     "metadata": {},
     "output_type": "execute_result"
    }
   ],
   "source": [
    "user_df.shape"
   ]
  },
  {
   "cell_type": "code",
   "execution_count": 9,
   "metadata": {},
   "outputs": [
    {
     "name": "stdout",
     "output_type": "stream",
     "text": [
      "<class 'pandas.core.frame.DataFrame'>\n",
      "RangeIndex: 189114 entries, 0 to 189113\n",
      "Data columns (total 32 columns):\n",
      "user_id         189114 non-null object\n",
      "date            189114 non-null object\n",
      "attribute_1     189114 non-null object\n",
      "attribute_2     189114 non-null object\n",
      "attribute_3     189114 non-null object\n",
      "attribute_4     189114 non-null bool\n",
      "attribute_5     189114 non-null bool\n",
      "attribute_6     189114 non-null bool\n",
      "attribute_7     189114 non-null bool\n",
      "attribute_8     189114 non-null bool\n",
      "attribute_9     189114 non-null bool\n",
      "attribute_10    189114 non-null bool\n",
      "attribute_11    189114 non-null bool\n",
      "attribute_12    189114 non-null bool\n",
      "attribute_13    189114 non-null bool\n",
      "attribute_14    189114 non-null bool\n",
      "attribute_15    189114 non-null bool\n",
      "attribute_16    189114 non-null bool\n",
      "attribute_17    189114 non-null bool\n",
      "attribute_18    189114 non-null bool\n",
      "attribute_19    189114 non-null bool\n",
      "attribute_20    189114 non-null bool\n",
      "attribute_21    189114 non-null bool\n",
      "attribute_22    189114 non-null bool\n",
      "attribute_23    189114 non-null bool\n",
      "attribute_24    189114 non-null bool\n",
      "attribute_25    189114 non-null bool\n",
      "attribute_26    189114 non-null bool\n",
      "attribute_27    189114 non-null bool\n",
      "attribute_28    189114 non-null bool\n",
      "attribute_29    189114 non-null bool\n",
      "attribute_30    189114 non-null bool\n",
      "dtypes: bool(27), object(5)\n",
      "memory usage: 12.1+ MB\n"
     ]
    }
   ],
   "source": [
    "user_df.info()"
   ]
  },
  {
   "cell_type": "code",
   "execution_count": 10,
   "metadata": {},
   "outputs": [
    {
     "data": {
      "text/html": [
       "<div>\n",
       "<style scoped>\n",
       "    .dataframe tbody tr th:only-of-type {\n",
       "        vertical-align: middle;\n",
       "    }\n",
       "\n",
       "    .dataframe tbody tr th {\n",
       "        vertical-align: top;\n",
       "    }\n",
       "\n",
       "    .dataframe thead th {\n",
       "        text-align: right;\n",
       "    }\n",
       "</style>\n",
       "<table border=\"1\" class=\"dataframe\">\n",
       "  <thead>\n",
       "    <tr style=\"text-align: right;\">\n",
       "      <th></th>\n",
       "      <th>user_id</th>\n",
       "      <th>date</th>\n",
       "      <th>attribute_1</th>\n",
       "      <th>attribute_2</th>\n",
       "      <th>attribute_3</th>\n",
       "      <th>attribute_4</th>\n",
       "      <th>attribute_5</th>\n",
       "      <th>attribute_6</th>\n",
       "      <th>attribute_7</th>\n",
       "      <th>attribute_8</th>\n",
       "      <th>...</th>\n",
       "      <th>attribute_21</th>\n",
       "      <th>attribute_22</th>\n",
       "      <th>attribute_23</th>\n",
       "      <th>attribute_24</th>\n",
       "      <th>attribute_25</th>\n",
       "      <th>attribute_26</th>\n",
       "      <th>attribute_27</th>\n",
       "      <th>attribute_28</th>\n",
       "      <th>attribute_29</th>\n",
       "      <th>attribute_30</th>\n",
       "    </tr>\n",
       "  </thead>\n",
       "  <tbody>\n",
       "    <tr>\n",
       "      <td>0</td>\n",
       "      <td>uid_100</td>\n",
       "      <td>2016-06-29</td>\n",
       "      <td>id 5</td>\n",
       "      <td>id 5</td>\n",
       "      <td>id 5</td>\n",
       "      <td>True</td>\n",
       "      <td>False</td>\n",
       "      <td>False</td>\n",
       "      <td>True</td>\n",
       "      <td>True</td>\n",
       "      <td>...</td>\n",
       "      <td>True</td>\n",
       "      <td>False</td>\n",
       "      <td>True</td>\n",
       "      <td>True</td>\n",
       "      <td>False</td>\n",
       "      <td>False</td>\n",
       "      <td>True</td>\n",
       "      <td>True</td>\n",
       "      <td>True</td>\n",
       "      <td>False</td>\n",
       "    </tr>\n",
       "    <tr>\n",
       "      <td>1</td>\n",
       "      <td>uid_100002</td>\n",
       "      <td>2016-01-06</td>\n",
       "      <td>id 28</td>\n",
       "      <td>id 9</td>\n",
       "      <td>id 5</td>\n",
       "      <td>False</td>\n",
       "      <td>False</td>\n",
       "      <td>True</td>\n",
       "      <td>True</td>\n",
       "      <td>False</td>\n",
       "      <td>...</td>\n",
       "      <td>False</td>\n",
       "      <td>False</td>\n",
       "      <td>True</td>\n",
       "      <td>True</td>\n",
       "      <td>True</td>\n",
       "      <td>True</td>\n",
       "      <td>True</td>\n",
       "      <td>True</td>\n",
       "      <td>True</td>\n",
       "      <td>False</td>\n",
       "    </tr>\n",
       "    <tr>\n",
       "      <td>2</td>\n",
       "      <td>uid_100003</td>\n",
       "      <td>2017-06-10</td>\n",
       "      <td>id 4</td>\n",
       "      <td>id 8</td>\n",
       "      <td>id 5</td>\n",
       "      <td>True</td>\n",
       "      <td>True</td>\n",
       "      <td>True</td>\n",
       "      <td>True</td>\n",
       "      <td>True</td>\n",
       "      <td>...</td>\n",
       "      <td>True</td>\n",
       "      <td>False</td>\n",
       "      <td>False</td>\n",
       "      <td>True</td>\n",
       "      <td>True</td>\n",
       "      <td>True</td>\n",
       "      <td>True</td>\n",
       "      <td>False</td>\n",
       "      <td>True</td>\n",
       "      <td>True</td>\n",
       "    </tr>\n",
       "    <tr>\n",
       "      <td>3</td>\n",
       "      <td>uid_100004</td>\n",
       "      <td>2017-07-20</td>\n",
       "      <td>id 40</td>\n",
       "      <td>id 25</td>\n",
       "      <td>id 9</td>\n",
       "      <td>True</td>\n",
       "      <td>True</td>\n",
       "      <td>True</td>\n",
       "      <td>True</td>\n",
       "      <td>True</td>\n",
       "      <td>...</td>\n",
       "      <td>True</td>\n",
       "      <td>True</td>\n",
       "      <td>True</td>\n",
       "      <td>True</td>\n",
       "      <td>True</td>\n",
       "      <td>True</td>\n",
       "      <td>True</td>\n",
       "      <td>True</td>\n",
       "      <td>True</td>\n",
       "      <td>True</td>\n",
       "    </tr>\n",
       "    <tr>\n",
       "      <td>4</td>\n",
       "      <td>uid_100006</td>\n",
       "      <td>2017-07-27</td>\n",
       "      <td>id 40</td>\n",
       "      <td>id 25</td>\n",
       "      <td>id 9</td>\n",
       "      <td>False</td>\n",
       "      <td>False</td>\n",
       "      <td>False</td>\n",
       "      <td>False</td>\n",
       "      <td>False</td>\n",
       "      <td>...</td>\n",
       "      <td>False</td>\n",
       "      <td>False</td>\n",
       "      <td>False</td>\n",
       "      <td>True</td>\n",
       "      <td>False</td>\n",
       "      <td>False</td>\n",
       "      <td>False</td>\n",
       "      <td>True</td>\n",
       "      <td>True</td>\n",
       "      <td>False</td>\n",
       "    </tr>\n",
       "  </tbody>\n",
       "</table>\n",
       "<p>5 rows × 32 columns</p>\n",
       "</div>"
      ],
      "text/plain": [
       "      user_id        date attribute_1 attribute_2 attribute_3  attribute_4  \\\n",
       "0     uid_100  2016-06-29        id 5        id 5        id 5         True   \n",
       "1  uid_100002  2016-01-06       id 28        id 9        id 5        False   \n",
       "2  uid_100003  2017-06-10        id 4        id 8        id 5         True   \n",
       "3  uid_100004  2017-07-20       id 40       id 25        id 9         True   \n",
       "4  uid_100006  2017-07-27       id 40       id 25        id 9        False   \n",
       "\n",
       "   attribute_5  attribute_6  attribute_7  attribute_8  ...  attribute_21  \\\n",
       "0        False        False         True         True  ...          True   \n",
       "1        False         True         True        False  ...         False   \n",
       "2         True         True         True         True  ...          True   \n",
       "3         True         True         True         True  ...          True   \n",
       "4        False        False        False        False  ...         False   \n",
       "\n",
       "   attribute_22  attribute_23  attribute_24  attribute_25  attribute_26  \\\n",
       "0         False          True          True         False         False   \n",
       "1         False          True          True          True          True   \n",
       "2         False         False          True          True          True   \n",
       "3          True          True          True          True          True   \n",
       "4         False         False          True         False         False   \n",
       "\n",
       "   attribute_27  attribute_28  attribute_29  attribute_30  \n",
       "0          True          True          True         False  \n",
       "1          True          True          True         False  \n",
       "2          True         False          True          True  \n",
       "3          True          True          True          True  \n",
       "4         False          True          True         False  \n",
       "\n",
       "[5 rows x 32 columns]"
      ]
     },
     "execution_count": 10,
     "metadata": {},
     "output_type": "execute_result"
    }
   ],
   "source": [
    "user_df.head()"
   ]
  },
  {
   "cell_type": "code",
   "execution_count": 11,
   "metadata": {},
   "outputs": [],
   "source": [
    "train_df = pd.merge(purchase_df, user_df, how='left', on='user_id')"
   ]
  },
  {
   "cell_type": "code",
   "execution_count": 12,
   "metadata": {},
   "outputs": [
    {
     "data": {
      "text/html": [
       "<div>\n",
       "<style scoped>\n",
       "    .dataframe tbody tr th:only-of-type {\n",
       "        vertical-align: middle;\n",
       "    }\n",
       "\n",
       "    .dataframe tbody tr th {\n",
       "        vertical-align: top;\n",
       "    }\n",
       "\n",
       "    .dataframe thead th {\n",
       "        text-align: right;\n",
       "    }\n",
       "</style>\n",
       "<table border=\"1\" class=\"dataframe\">\n",
       "  <thead>\n",
       "    <tr style=\"text-align: right;\">\n",
       "      <th></th>\n",
       "      <th>user_id</th>\n",
       "      <th>purchase_id</th>\n",
       "      <th>date_x</th>\n",
       "      <th>product_id</th>\n",
       "      <th>parts_1</th>\n",
       "      <th>parts_2</th>\n",
       "      <th>parts_3</th>\n",
       "      <th>parts_4</th>\n",
       "      <th>parts_5</th>\n",
       "      <th>parts_6</th>\n",
       "      <th>...</th>\n",
       "      <th>attribute_21</th>\n",
       "      <th>attribute_22</th>\n",
       "      <th>attribute_23</th>\n",
       "      <th>attribute_24</th>\n",
       "      <th>attribute_25</th>\n",
       "      <th>attribute_26</th>\n",
       "      <th>attribute_27</th>\n",
       "      <th>attribute_28</th>\n",
       "      <th>attribute_29</th>\n",
       "      <th>attribute_30</th>\n",
       "    </tr>\n",
       "  </thead>\n",
       "  <tbody>\n",
       "    <tr>\n",
       "      <td>0</td>\n",
       "      <td>uid_100</td>\n",
       "      <td>pid_0000000000</td>\n",
       "      <td>2017-09-27</td>\n",
       "      <td>product 2</td>\n",
       "      <td>0</td>\n",
       "      <td>0</td>\n",
       "      <td>0</td>\n",
       "      <td>0</td>\n",
       "      <td>0</td>\n",
       "      <td>0</td>\n",
       "      <td>...</td>\n",
       "      <td>True</td>\n",
       "      <td>False</td>\n",
       "      <td>True</td>\n",
       "      <td>True</td>\n",
       "      <td>False</td>\n",
       "      <td>False</td>\n",
       "      <td>True</td>\n",
       "      <td>True</td>\n",
       "      <td>True</td>\n",
       "      <td>False</td>\n",
       "    </tr>\n",
       "    <tr>\n",
       "      <td>1</td>\n",
       "      <td>uid_100</td>\n",
       "      <td>pid_0000000001</td>\n",
       "      <td>2017-09-27</td>\n",
       "      <td>product 2</td>\n",
       "      <td>0</td>\n",
       "      <td>0</td>\n",
       "      <td>0</td>\n",
       "      <td>0</td>\n",
       "      <td>0</td>\n",
       "      <td>0</td>\n",
       "      <td>...</td>\n",
       "      <td>True</td>\n",
       "      <td>False</td>\n",
       "      <td>True</td>\n",
       "      <td>True</td>\n",
       "      <td>False</td>\n",
       "      <td>False</td>\n",
       "      <td>True</td>\n",
       "      <td>True</td>\n",
       "      <td>True</td>\n",
       "      <td>False</td>\n",
       "    </tr>\n",
       "    <tr>\n",
       "      <td>2</td>\n",
       "      <td>uid_100002</td>\n",
       "      <td>pid_0000000002</td>\n",
       "      <td>2017-11-23</td>\n",
       "      <td>product 2</td>\n",
       "      <td>0</td>\n",
       "      <td>0</td>\n",
       "      <td>0</td>\n",
       "      <td>0</td>\n",
       "      <td>0</td>\n",
       "      <td>0</td>\n",
       "      <td>...</td>\n",
       "      <td>False</td>\n",
       "      <td>False</td>\n",
       "      <td>True</td>\n",
       "      <td>True</td>\n",
       "      <td>True</td>\n",
       "      <td>True</td>\n",
       "      <td>True</td>\n",
       "      <td>True</td>\n",
       "      <td>True</td>\n",
       "      <td>False</td>\n",
       "    </tr>\n",
       "    <tr>\n",
       "      <td>3</td>\n",
       "      <td>uid_100002</td>\n",
       "      <td>pid_0000000003</td>\n",
       "      <td>2017-11-23</td>\n",
       "      <td>product 2</td>\n",
       "      <td>0</td>\n",
       "      <td>0</td>\n",
       "      <td>0</td>\n",
       "      <td>0</td>\n",
       "      <td>0</td>\n",
       "      <td>0</td>\n",
       "      <td>...</td>\n",
       "      <td>False</td>\n",
       "      <td>False</td>\n",
       "      <td>True</td>\n",
       "      <td>True</td>\n",
       "      <td>True</td>\n",
       "      <td>True</td>\n",
       "      <td>True</td>\n",
       "      <td>True</td>\n",
       "      <td>True</td>\n",
       "      <td>False</td>\n",
       "    </tr>\n",
       "    <tr>\n",
       "      <td>4</td>\n",
       "      <td>uid_100003</td>\n",
       "      <td>pid_0000000004</td>\n",
       "      <td>2018-02-07</td>\n",
       "      <td>product 2</td>\n",
       "      <td>0</td>\n",
       "      <td>0</td>\n",
       "      <td>0</td>\n",
       "      <td>0</td>\n",
       "      <td>0</td>\n",
       "      <td>0</td>\n",
       "      <td>...</td>\n",
       "      <td>True</td>\n",
       "      <td>False</td>\n",
       "      <td>False</td>\n",
       "      <td>True</td>\n",
       "      <td>True</td>\n",
       "      <td>True</td>\n",
       "      <td>True</td>\n",
       "      <td>False</td>\n",
       "      <td>True</td>\n",
       "      <td>True</td>\n",
       "    </tr>\n",
       "  </tbody>\n",
       "</table>\n",
       "<p>5 rows × 45 columns</p>\n",
       "</div>"
      ],
      "text/plain": [
       "      user_id     purchase_id      date_x product_id parts_1 parts_2 parts_3  \\\n",
       "0     uid_100  pid_0000000000  2017-09-27  product 2       0       0       0   \n",
       "1     uid_100  pid_0000000001  2017-09-27  product 2       0       0       0   \n",
       "2  uid_100002  pid_0000000002  2017-11-23  product 2       0       0       0   \n",
       "3  uid_100002  pid_0000000003  2017-11-23  product 2       0       0       0   \n",
       "4  uid_100003  pid_0000000004  2018-02-07  product 2       0       0       0   \n",
       "\n",
       "  parts_4 parts_5 parts_6  ... attribute_21 attribute_22 attribute_23  \\\n",
       "0       0       0       0  ...         True        False         True   \n",
       "1       0       0       0  ...         True        False         True   \n",
       "2       0       0       0  ...        False        False         True   \n",
       "3       0       0       0  ...        False        False         True   \n",
       "4       0       0       0  ...         True        False        False   \n",
       "\n",
       "   attribute_24 attribute_25 attribute_26 attribute_27 attribute_28  \\\n",
       "0          True        False        False         True         True   \n",
       "1          True        False        False         True         True   \n",
       "2          True         True         True         True         True   \n",
       "3          True         True         True         True         True   \n",
       "4          True         True         True         True        False   \n",
       "\n",
       "   attribute_29  attribute_30  \n",
       "0          True         False  \n",
       "1          True         False  \n",
       "2          True         False  \n",
       "3          True         False  \n",
       "4          True          True  \n",
       "\n",
       "[5 rows x 45 columns]"
      ]
     },
     "execution_count": 12,
     "metadata": {},
     "output_type": "execute_result"
    }
   ],
   "source": [
    "train_df.head()"
   ]
  },
  {
   "cell_type": "code",
   "execution_count": 13,
   "metadata": {},
   "outputs": [
    {
     "name": "stdout",
     "output_type": "stream",
     "text": [
      "      user_id     purchase_id product_id parts_1 parts_2 parts_3 parts_4  \\\n",
      "0     uid_100  pid_0000000000  product 2       0       0       0       0   \n",
      "1     uid_100  pid_0000000001  product 2       0       0       0       0   \n",
      "2  uid_100002  pid_0000000002  product 2       0       0       0       0   \n",
      "3  uid_100002  pid_0000000003  product 2       0       0       0       0   \n",
      "4  uid_100003  pid_0000000004  product 2       0       0       0       0   \n",
      "\n",
      "  parts_5 parts_6 parts_7  ... attribute_21 attribute_22  attribute_23  \\\n",
      "0       0       0       0  ...         True        False          True   \n",
      "1       0       0       0  ...         True        False          True   \n",
      "2       0       0       0  ...        False        False          True   \n",
      "3       0       0       0  ...        False        False          True   \n",
      "4       0       0       0  ...         True        False         False   \n",
      "\n",
      "  attribute_24 attribute_25 attribute_26 attribute_27  attribute_28  \\\n",
      "0         True        False        False         True          True   \n",
      "1         True        False        False         True          True   \n",
      "2         True         True         True         True          True   \n",
      "3         True         True         True         True          True   \n",
      "4         True         True         True         True         False   \n",
      "\n",
      "   attribute_29  attribute_30  \n",
      "0          True         False  \n",
      "1          True         False  \n",
      "2          True         False  \n",
      "3          True         False  \n",
      "4          True          True  \n",
      "\n",
      "[5 rows x 44 columns]\n"
     ]
    }
   ],
   "source": [
    "# train_dfから日付を削除する\n",
    "print( train_df.drop('date_x', axis=1).head())"
   ]
  },
  {
   "cell_type": "code",
   "execution_count": 14,
   "metadata": {},
   "outputs": [
    {
     "name": "stdout",
     "output_type": "stream",
     "text": [
      "      user_id     purchase_id product_id parts_1 parts_2 parts_3 parts_4  \\\n",
      "0     uid_100  pid_0000000000  product 2       0       0       0       0   \n",
      "1     uid_100  pid_0000000001  product 2       0       0       0       0   \n",
      "2  uid_100002  pid_0000000002  product 2       0       0       0       0   \n",
      "3  uid_100002  pid_0000000003  product 2       0       0       0       0   \n",
      "4  uid_100003  pid_0000000004  product 2       0       0       0       0   \n",
      "\n",
      "  parts_5 parts_6 parts_7  ... attribute_21 attribute_22  attribute_23  \\\n",
      "0       0       0       0  ...         True        False          True   \n",
      "1       0       0       0  ...         True        False          True   \n",
      "2       0       0       0  ...        False        False          True   \n",
      "3       0       0       0  ...        False        False          True   \n",
      "4       0       0       0  ...         True        False         False   \n",
      "\n",
      "  attribute_24 attribute_25 attribute_26 attribute_27  attribute_28  \\\n",
      "0         True        False        False         True          True   \n",
      "1         True        False        False         True          True   \n",
      "2         True         True         True         True          True   \n",
      "3         True         True         True         True          True   \n",
      "4         True         True         True         True         False   \n",
      "\n",
      "   attribute_29  attribute_30  \n",
      "0          True         False  \n",
      "1          True         False  \n",
      "2          True         False  \n",
      "3          True         False  \n",
      "4          True          True  \n",
      "\n",
      "[5 rows x 44 columns]\n"
     ]
    }
   ],
   "source": [
    "# test_dfから日付を削除する\n",
    "print( train_df.drop('date_x', axis=1).head())"
   ]
  },
  {
   "cell_type": "code",
   "execution_count": 15,
   "metadata": {},
   "outputs": [
    {
     "name": "stdout",
     "output_type": "stream",
     "text": [
      "<class 'pandas.core.frame.DataFrame'>\n",
      "Int64Index: 1803574 entries, 0 to 1803573\n",
      "Data columns (total 45 columns):\n",
      "user_id         object\n",
      "purchase_id     object\n",
      "date_x          object\n",
      "product_id      object\n",
      "parts_1         object\n",
      "parts_2         object\n",
      "parts_3         object\n",
      "parts_4         object\n",
      "parts_5         object\n",
      "parts_6         object\n",
      "parts_7         object\n",
      "parts_8         object\n",
      "parts_9         object\n",
      "purchase        int64\n",
      "date_y          object\n",
      "attribute_1     object\n",
      "attribute_2     object\n",
      "attribute_3     object\n",
      "attribute_4     bool\n",
      "attribute_5     bool\n",
      "attribute_6     bool\n",
      "attribute_7     bool\n",
      "attribute_8     bool\n",
      "attribute_9     bool\n",
      "attribute_10    bool\n",
      "attribute_11    bool\n",
      "attribute_12    bool\n",
      "attribute_13    bool\n",
      "attribute_14    bool\n",
      "attribute_15    bool\n",
      "attribute_16    bool\n",
      "attribute_17    bool\n",
      "attribute_18    bool\n",
      "attribute_19    bool\n",
      "attribute_20    bool\n",
      "attribute_21    bool\n",
      "attribute_22    bool\n",
      "attribute_23    bool\n",
      "attribute_24    bool\n",
      "attribute_25    bool\n",
      "attribute_26    bool\n",
      "attribute_27    bool\n",
      "attribute_28    bool\n",
      "attribute_29    bool\n",
      "attribute_30    bool\n",
      "dtypes: bool(27), int64(1), object(17)\n",
      "memory usage: 307.9+ MB\n"
     ]
    }
   ],
   "source": [
    "train_df.info()"
   ]
  },
  {
   "cell_type": "code",
   "execution_count": 16,
   "metadata": {},
   "outputs": [
    {
     "data": {
      "text/plain": [
       "(1803574, 45)"
      ]
     },
     "execution_count": 16,
     "metadata": {},
     "output_type": "execute_result"
    }
   ],
   "source": [
    "train_df.shape"
   ]
  },
  {
   "cell_type": "code",
   "execution_count": 17,
   "metadata": {},
   "outputs": [
    {
     "data": {
      "text/plain": [
       "0"
      ]
     },
     "execution_count": 17,
     "metadata": {},
     "output_type": "execute_result"
    }
   ],
   "source": [
    "train_df.isnull().sum().sum()"
   ]
  },
  {
   "cell_type": "code",
   "execution_count": 18,
   "metadata": {},
   "outputs": [],
   "source": [
    "# %%time\n",
    "# pdp.ProfileReport(train_df)"
   ]
  },
  {
   "cell_type": "code",
   "execution_count": 19,
   "metadata": {},
   "outputs": [],
   "source": [
    "test_df = pd.merge(test_df, user_df, how='left', on='user_id')"
   ]
  },
  {
   "cell_type": "code",
   "execution_count": 20,
   "metadata": {},
   "outputs": [
    {
     "data": {
      "text/plain": [
       "(215041, 44)"
      ]
     },
     "execution_count": 20,
     "metadata": {},
     "output_type": "execute_result"
    }
   ],
   "source": [
    "test_df.shape"
   ]
  },
  {
   "cell_type": "code",
   "execution_count": 21,
   "metadata": {},
   "outputs": [],
   "source": [
    "# sample_train_df = train_df.sample(n=len(train_df)//500)"
   ]
  },
  {
   "cell_type": "code",
   "execution_count": 22,
   "metadata": {},
   "outputs": [],
   "source": [
    "# sample_test_df = test_df.sample(n=len(test_df)//500)"
   ]
  },
  {
   "cell_type": "code",
   "execution_count": 23,
   "metadata": {},
   "outputs": [],
   "source": [
    "# train_df = sample_train_df\n",
    "# test_df = sample_test_df"
   ]
  },
  {
   "cell_type": "code",
   "execution_count": 24,
   "metadata": {},
   "outputs": [
    {
     "ename": "MemoryError",
     "evalue": "Unable to allocate array with shape (1803574, 1803574) and data type uint8",
     "output_type": "error",
     "traceback": [
      "\u001b[0;31m---------------------------------------------------------------------------\u001b[0m",
      "\u001b[0;31mMemoryError\u001b[0m                               Traceback (most recent call last)",
      "\u001b[0;32m<ipython-input-24-c425379ba1c7>\u001b[0m in \u001b[0;36m<module>\u001b[0;34m\u001b[0m\n\u001b[0;32m----> 1\u001b[0;31m \u001b[0mtrain\u001b[0m \u001b[0;34m=\u001b[0m \u001b[0mpd\u001b[0m\u001b[0;34m.\u001b[0m\u001b[0mget_dummies\u001b[0m\u001b[0;34m(\u001b[0m\u001b[0mtrain_df\u001b[0m\u001b[0;34m,\u001b[0m \u001b[0mdrop_first\u001b[0m\u001b[0;34m=\u001b[0m\u001b[0;32mTrue\u001b[0m\u001b[0;34m)\u001b[0m\u001b[0;34m\u001b[0m\u001b[0;34m\u001b[0m\u001b[0m\n\u001b[0m",
      "\u001b[0;32m~/python/py37env/lib/python3.7/site-packages/pandas/core/reshape/reshape.py\u001b[0m in \u001b[0;36mget_dummies\u001b[0;34m(data, prefix, prefix_sep, dummy_na, columns, sparse, drop_first, dtype)\u001b[0m\n\u001b[1;32m    924\u001b[0m                 \u001b[0msparse\u001b[0m\u001b[0;34m=\u001b[0m\u001b[0msparse\u001b[0m\u001b[0;34m,\u001b[0m\u001b[0;34m\u001b[0m\u001b[0;34m\u001b[0m\u001b[0m\n\u001b[1;32m    925\u001b[0m                 \u001b[0mdrop_first\u001b[0m\u001b[0;34m=\u001b[0m\u001b[0mdrop_first\u001b[0m\u001b[0;34m,\u001b[0m\u001b[0;34m\u001b[0m\u001b[0;34m\u001b[0m\u001b[0m\n\u001b[0;32m--> 926\u001b[0;31m                 \u001b[0mdtype\u001b[0m\u001b[0;34m=\u001b[0m\u001b[0mdtype\u001b[0m\u001b[0;34m,\u001b[0m\u001b[0;34m\u001b[0m\u001b[0;34m\u001b[0m\u001b[0m\n\u001b[0m\u001b[1;32m    927\u001b[0m             )\n\u001b[1;32m    928\u001b[0m             \u001b[0mwith_dummies\u001b[0m\u001b[0;34m.\u001b[0m\u001b[0mappend\u001b[0m\u001b[0;34m(\u001b[0m\u001b[0mdummy\u001b[0m\u001b[0;34m)\u001b[0m\u001b[0;34m\u001b[0m\u001b[0;34m\u001b[0m\u001b[0m\n",
      "\u001b[0;32m~/python/py37env/lib/python3.7/site-packages/pandas/core/reshape/reshape.py\u001b[0m in \u001b[0;36m_get_dummies_1d\u001b[0;34m(data, prefix, prefix_sep, dummy_na, sparse, drop_first, dtype)\u001b[0m\n\u001b[1;32m   1037\u001b[0m \u001b[0;34m\u001b[0m\u001b[0m\n\u001b[1;32m   1038\u001b[0m     \u001b[0;32melse\u001b[0m\u001b[0;34m:\u001b[0m\u001b[0;34m\u001b[0m\u001b[0;34m\u001b[0m\u001b[0m\n\u001b[0;32m-> 1039\u001b[0;31m         \u001b[0mdummy_mat\u001b[0m \u001b[0;34m=\u001b[0m \u001b[0mnp\u001b[0m\u001b[0;34m.\u001b[0m\u001b[0meye\u001b[0m\u001b[0;34m(\u001b[0m\u001b[0mnumber_of_cols\u001b[0m\u001b[0;34m,\u001b[0m \u001b[0mdtype\u001b[0m\u001b[0;34m=\u001b[0m\u001b[0mdtype\u001b[0m\u001b[0;34m)\u001b[0m\u001b[0;34m.\u001b[0m\u001b[0mtake\u001b[0m\u001b[0;34m(\u001b[0m\u001b[0mcodes\u001b[0m\u001b[0;34m,\u001b[0m \u001b[0maxis\u001b[0m\u001b[0;34m=\u001b[0m\u001b[0;36m0\u001b[0m\u001b[0;34m)\u001b[0m\u001b[0;34m\u001b[0m\u001b[0;34m\u001b[0m\u001b[0m\n\u001b[0m\u001b[1;32m   1040\u001b[0m \u001b[0;34m\u001b[0m\u001b[0m\n\u001b[1;32m   1041\u001b[0m         \u001b[0;32mif\u001b[0m \u001b[0;32mnot\u001b[0m \u001b[0mdummy_na\u001b[0m\u001b[0;34m:\u001b[0m\u001b[0;34m\u001b[0m\u001b[0;34m\u001b[0m\u001b[0m\n",
      "\u001b[0;32m~/python/py37env/lib/python3.7/site-packages/numpy/lib/twodim_base.py\u001b[0m in \u001b[0;36meye\u001b[0;34m(N, M, k, dtype, order)\u001b[0m\n\u001b[1;32m    199\u001b[0m     \u001b[0;32mif\u001b[0m \u001b[0mM\u001b[0m \u001b[0;32mis\u001b[0m \u001b[0;32mNone\u001b[0m\u001b[0;34m:\u001b[0m\u001b[0;34m\u001b[0m\u001b[0;34m\u001b[0m\u001b[0m\n\u001b[1;32m    200\u001b[0m         \u001b[0mM\u001b[0m \u001b[0;34m=\u001b[0m \u001b[0mN\u001b[0m\u001b[0;34m\u001b[0m\u001b[0;34m\u001b[0m\u001b[0m\n\u001b[0;32m--> 201\u001b[0;31m     \u001b[0mm\u001b[0m \u001b[0;34m=\u001b[0m \u001b[0mzeros\u001b[0m\u001b[0;34m(\u001b[0m\u001b[0;34m(\u001b[0m\u001b[0mN\u001b[0m\u001b[0;34m,\u001b[0m \u001b[0mM\u001b[0m\u001b[0;34m)\u001b[0m\u001b[0;34m,\u001b[0m \u001b[0mdtype\u001b[0m\u001b[0;34m=\u001b[0m\u001b[0mdtype\u001b[0m\u001b[0;34m,\u001b[0m \u001b[0morder\u001b[0m\u001b[0;34m=\u001b[0m\u001b[0morder\u001b[0m\u001b[0;34m)\u001b[0m\u001b[0;34m\u001b[0m\u001b[0;34m\u001b[0m\u001b[0m\n\u001b[0m\u001b[1;32m    202\u001b[0m     \u001b[0;32mif\u001b[0m \u001b[0mk\u001b[0m \u001b[0;34m>=\u001b[0m \u001b[0mM\u001b[0m\u001b[0;34m:\u001b[0m\u001b[0;34m\u001b[0m\u001b[0;34m\u001b[0m\u001b[0m\n\u001b[1;32m    203\u001b[0m         \u001b[0;32mreturn\u001b[0m \u001b[0mm\u001b[0m\u001b[0;34m\u001b[0m\u001b[0;34m\u001b[0m\u001b[0m\n",
      "\u001b[0;31mMemoryError\u001b[0m: Unable to allocate array with shape (1803574, 1803574) and data type uint8"
     ]
    }
   ],
   "source": [
    "train = pd.get_dummies(train_df, drop_first=True)"
   ]
  },
  {
   "cell_type": "code",
   "execution_count": null,
   "metadata": {},
   "outputs": [],
   "source": [
    "test = pd.get_dummies(test_df, drop_first=True)"
   ]
  },
  {
   "cell_type": "code",
   "execution_count": null,
   "metadata": {},
   "outputs": [],
   "source": [
    "train = train.drop(columns='purchase')"
   ]
  },
  {
   "cell_type": "code",
   "execution_count": null,
   "metadata": {},
   "outputs": [],
   "source": [
    "def fill_missing_columns(df_a, df_b):\n",
    "    columns_for_b = set(df_a.columns) - set(df_b.columns)\n",
    "    for column in columns_for_b:\n",
    "        df_b[column] = 0\n",
    "    columns_for_a = set(df_b.columns) - set(df_a.columns)\n",
    "    for column in columns_for_a:\n",
    "        df_a[column] = 0"
   ]
  },
  {
   "cell_type": "code",
   "execution_count": null,
   "metadata": {},
   "outputs": [],
   "source": [
    "%%time\n",
    "fill_missing_columns(train, test)"
   ]
  },
  {
   "cell_type": "code",
   "execution_count": null,
   "metadata": {},
   "outputs": [],
   "source": [
    "X = train\n",
    "y = train_df.purchase"
   ]
  },
  {
   "cell_type": "code",
   "execution_count": null,
   "metadata": {},
   "outputs": [],
   "source": [
    "from sklearn.model_selection import train_test_split"
   ]
  },
  {
   "cell_type": "code",
   "execution_count": null,
   "metadata": {},
   "outputs": [],
   "source": [
    "X_train, X_test, y_train, y_test = train_test_split(X, y, test_size=0.33, random_state=42)"
   ]
  },
  {
   "cell_type": "code",
   "execution_count": null,
   "metadata": {},
   "outputs": [],
   "source": [
    "from sklearn.linear_model import LogisticRegression"
   ]
  },
  {
   "cell_type": "code",
   "execution_count": null,
   "metadata": {},
   "outputs": [],
   "source": [
    "logreg = LogisticRegression()\n",
    "logreg.fit(X_train, y_train)\n",
    "logreg.score(X_train, y_train)"
   ]
  },
  {
   "cell_type": "code",
   "execution_count": null,
   "metadata": {},
   "outputs": [],
   "source": [
    "logreg.score(X_test, y_test)"
   ]
  },
  {
   "cell_type": "code",
   "execution_count": null,
   "metadata": {},
   "outputs": [],
   "source": [
    "logreg.classes_"
   ]
  },
  {
   "cell_type": "code",
   "execution_count": null,
   "metadata": {},
   "outputs": [],
   "source": [
    "proba = logreg.predict_proba(test)[:, 1]"
   ]
  },
  {
   "cell_type": "code",
   "execution_count": null,
   "metadata": {},
   "outputs": [],
   "source": [
    "sample_test_df['probability'] = proba"
   ]
  },
  {
   "cell_type": "code",
   "execution_count": null,
   "metadata": {},
   "outputs": [],
   "source": [
    "submit_df = sample_test_df[['purchase_id', 'probability']]"
   ]
  },
  {
   "cell_type": "code",
   "execution_count": null,
   "metadata": {},
   "outputs": [],
   "source": [
    "submit_df.head()"
   ]
  },
  {
   "cell_type": "code",
   "execution_count": null,
   "metadata": {},
   "outputs": [],
   "source": [
    "submit_df.to_csv('./submit_01.csv', header=False, index=False, )"
   ]
  }
 ],
 "metadata": {
  "kernelspec": {
   "display_name": "Python 3",
   "language": "python",
   "name": "python3"
  },
  "language_info": {
   "codemirror_mode": {
    "name": "ipython",
    "version": 3
   },
   "file_extension": ".py",
   "mimetype": "text/x-python",
   "name": "python",
   "nbconvert_exporter": "python",
   "pygments_lexer": "ipython3",
   "version": "3.7.4"
  }
 },
 "nbformat": 4,
 "nbformat_minor": 1
}
